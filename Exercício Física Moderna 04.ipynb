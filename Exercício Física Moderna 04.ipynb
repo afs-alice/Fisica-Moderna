{
 "cells": [
  {
   "cell_type": "markdown",
   "metadata": {},
   "source": [
    "# Exercício 4 - Física Moderna\n",
    "## Discente: Alice Ferreira Silva\n",
    "\n",
    "Este exercício aplicado em Física Moderna teve como objetivo a utilização do simulador Qiskit com múltiplos qubits para gerar números aleatórios de 01 a 60.\n",
    "O estado utilizado foi $\\left| + \\right\\rangle$."
   ]
  },
  {
   "cell_type": "markdown",
   "metadata": {},
   "source": [
    "## Toda a codificação foi baseada na monitoria ministrada no dia 13 de outubro de 2020 efetuando as devidas modificações para atender as especificações do exercício."
   ]
  },
  {
   "cell_type": "code",
   "execution_count": 1,
   "metadata": {},
   "outputs": [],
   "source": [
    "%matplotlib inline\n",
    "from qiskit import *\n",
    "from qiskit.extensions import Initialize\n",
    "import matplotlib"
   ]
  },
  {
   "cell_type": "markdown",
   "metadata": {},
   "source": [
    "Codificação necessária para a geração do número aleatório com múltiplos Qubits."
   ]
  },
  {
   "cell_type": "code",
   "execution_count": 2,
   "metadata": {},
   "outputs": [
    {
     "name": "stdout",
     "output_type": "stream",
     "text": [
      "Digite o número máximo 60\n",
      "Digite a quantidade de números 6\n"
     ]
    }
   ],
   "source": [
    "num_max = int(input(\"Digite o número máximo \"))\n",
    "quant_num = int(input(\"Digite a quantidade de números \"))\n",
    "\n",
    "q_bits = num_max.bit_length()\n",
    "r = []\n",
    "\n",
    "circuito = QuantumCircuit(num_max, num_max)\n",
    "ket_0 = [1,0]\n",
    "initializer = Initialize(ket_0)\n",
    "circuito.append(initializer, [quant_num])\n",
    "circuito.h(quant_num)\n",
    "circuito.measure(quant_num, quant_num)\n",
    "\n",
    "for j in range(quant_num):\n",
    "    valor = num_max + 1\n",
    "    while (valor >= num_max):\n",
    "        num = []\n",
    "        for i in range(q_bits):\n",
    "            simulator = Aer.get_backend('qasm_simulator')\n",
    "            resultado = execute(circuito, backend = simulator, shots = 1).result()\n",
    "            v = list(resultado.get_counts().keys())[0]\n",
    "            num.append(v)\n",
    "        valor = int(\"\".join(x for x in num), 2)\n",
    "    r.append(valor)"
   ]
  },
  {
   "cell_type": "code",
   "execution_count": null,
   "metadata": {},
   "outputs": [],
   "source": [
    "sorted(r)\n",
    "print(r)"
   ]
  },
  {
   "cell_type": "markdown",
   "metadata": {},
   "source": [
    "Os valores odernados gerados na execução anterior foram: [2, 10, 32, 34, 54]."
   ]
  }
 ],
 "metadata": {
  "kernelspec": {
   "display_name": "Python 3",
   "language": "python",
   "name": "python3"
  },
  "language_info": {
   "codemirror_mode": {
    "name": "ipython",
    "version": 3
   },
   "file_extension": ".py",
   "mimetype": "text/x-python",
   "name": "python",
   "nbconvert_exporter": "python",
   "pygments_lexer": "ipython3",
   "version": "3.8.5"
  }
 },
 "nbformat": 4,
 "nbformat_minor": 4
}
