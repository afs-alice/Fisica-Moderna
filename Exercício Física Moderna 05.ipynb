{
 "cells": [
  {
   "cell_type": "markdown",
   "metadata": {},
   "source": [
    "# Exercício Física Moderna Teleporte\n",
    "\n",
    "## Discente: Alice Ferreira Silva"
   ]
  },
  {
   "cell_type": "code",
   "execution_count": 1,
   "metadata": {},
   "outputs": [],
   "source": [
    "from qiskit import *\n",
    "import numpy as np\n",
    "from qiskit import QuantumCircuit, QuantumRegister, ClassicalRegister, execute, BasicAer, IBMQ\n",
    "from qiskit.visualization import plot_histogram, plot_bloch_multivector\n",
    "from qiskit.extensions import Initialize\n",
    "#qiskit.__qiskit_version__"
   ]
  },
  {
   "cell_type": "code",
   "execution_count": 2,
   "metadata": {},
   "outputs": [],
   "source": [
    "# Nesta implementação usou-se 3 qubits e 2 bist clássicos\n",
    "qr = QuantumRegister(3, name=\"q\")    # Definição de 3 qubits\n",
    "crz = ClassicalRegister(1, name=\"crz\") # Definição 2 bits clássicos\n",
    "crx = ClassicalRegister(1, name=\"crx\") # em 2 registradores diferentes\n",
    "teleportation_circuit = QuantumCircuit(qr, crz, crx)"
   ]
  },
  {
   "cell_type": "markdown",
   "metadata": {},
   "source": [
    "Criaremos um par de Bell. Transfere-se um dos qubits para a base X (|+⟩ e |−⟩) usando a porta Hadamard e, em seguida, aplica-se uma porta CNOT no outro qubit controlado por aquele na base X."
   ]
  },
  {
   "cell_type": "code",
   "execution_count": 3,
   "metadata": {},
   "outputs": [],
   "source": [
    "def _par_de_bell(qc, a, b):\n",
    "    qc.h(a) # Colocando o qubit no estado |+>\n",
    "    qc.cx(a,b) # CNOT com A como controle e B como alvo"
   ]
  },
  {
   "cell_type": "markdown",
   "metadata": {},
   "source": [
    "Vamos definir que q_1 pertence a Alice e Bob possui o q_2.\n",
    "\n",
    "\n",
    "Na comunicação feita por Alice aplica-se uma porta CNOT, controlada por |ψ⟩, que é o qubit que ela está tentando enviar para Bob. Em seguida, aplica-se a Hadamard em |ψ⟩."
   ]
  },
  {
   "cell_type": "code",
   "execution_count": 4,
   "metadata": {},
   "outputs": [],
   "source": [
    "def alice_porta(qc, psi, a):\n",
    "    qc.cx(psi, a)\n",
    "    qc.h(psi)"
   ]
  },
  {
   "cell_type": "code",
   "execution_count": 5,
   "metadata": {},
   "outputs": [
    {
     "data": {
      "text/html": [
       "<pre style=\"word-wrap: normal;white-space: pre;background: #fff0;line-height: 1.1;font-family: &quot;Courier New&quot;,Courier,monospace\">                  ░      ┌───┐\n",
       "  q_0: ───────────░───■──┤ H ├\n",
       "       ┌───┐      ░ ┌─┴─┐└───┘\n",
       "  q_1: ┤ H ├──■───░─┤ X ├─────\n",
       "       └───┘┌─┴─┐ ░ └───┘     \n",
       "  q_2: ─────┤ X ├─░───────────\n",
       "            └───┘ ░           \n",
       "crz: 1/═══════════════════════\n",
       "                              \n",
       "crx: 1/═══════════════════════\n",
       "                              </pre>"
      ],
      "text/plain": [
       "                  ░      ┌───┐\n",
       "  q_0: ───────────░───■──┤ H ├\n",
       "       ┌───┐      ░ ┌─┴─┐└───┘\n",
       "  q_1: ┤ H ├──■───░─┤ X ├─────\n",
       "       └───┘┌─┴─┐ ░ └───┘     \n",
       "  q_2: ─────┤ X ├─░───────────\n",
       "            └───┘ ░           \n",
       "crz: 1/═══════════════════════\n",
       "                              \n",
       "crx: 1/═══════════════════════\n",
       "                              "
      ]
     },
     "execution_count": 5,
     "metadata": {},
     "output_type": "execute_result"
    }
   ],
   "source": [
    "# Definição do par de Bell\n",
    "_par_de_bell(teleportation_circuit, 1, 2)\n",
    "\n",
    "teleportation_circuit.barrier() # Apenas melhorando a visualização\n",
    "alice_porta(teleportation_circuit, 0, 1)\n",
    "teleportation_circuit.draw()"
   ]
  },
  {
   "cell_type": "markdown",
   "metadata": {},
   "source": [
    "Agora, Alice aplica uma medida a ambos os qubits que ela possui, até então são: q_1 e |ψ⟩. Em seguida, o resultado é armazenado em dois bits clássicos. Esses dois bits são enviados para Bob."
   ]
  },
  {
   "cell_type": "code",
   "execution_count": 6,
   "metadata": {},
   "outputs": [],
   "source": [
    "def measure_and_send(qc, a, b):\n",
    "    qc.barrier()\n",
    "    qc.measure(a,0)\n",
    "    qc.measure(b,1)"
   ]
  },
  {
   "cell_type": "code",
   "execution_count": 7,
   "metadata": {},
   "outputs": [
    {
     "data": {
      "text/html": [
       "<pre style=\"word-wrap: normal;white-space: pre;background: #fff0;line-height: 1.1;font-family: &quot;Courier New&quot;,Courier,monospace\">                  ░      ┌───┐ ░ ┌─┐   \n",
       "  q_0: ───────────░───■──┤ H ├─░─┤M├───\n",
       "       ┌───┐      ░ ┌─┴─┐└───┘ ░ └╥┘┌─┐\n",
       "  q_1: ┤ H ├──■───░─┤ X ├──────░──╫─┤M├\n",
       "       └───┘┌─┴─┐ ░ └───┘      ░  ║ └╥┘\n",
       "  q_2: ─────┤ X ├─░────────────░──╫──╫─\n",
       "            └───┘ ░            ░  ║  ║ \n",
       "crz: 1/═══════════════════════════╩══╬═\n",
       "                                  0  ║ \n",
       "                                     ║ \n",
       "crx: 1/══════════════════════════════╩═\n",
       "                                     0 </pre>"
      ],
      "text/plain": [
       "                  ░      ┌───┐ ░ ┌─┐   \n",
       "  q_0: ───────────░───■──┤ H ├─░─┤M├───\n",
       "       ┌───┐      ░ ┌─┴─┐└───┘ ░ └╥┘┌─┐\n",
       "  q_1: ┤ H ├──■───░─┤ X ├──────░──╫─┤M├\n",
       "       └───┘┌─┴─┐ ░ └───┘      ░  ║ └╥┘\n",
       "  q_2: ─────┤ X ├─░────────────░──╫──╫─\n",
       "            └───┘ ░            ░  ║  ║ \n",
       "crz: 1/═══════════════════════════╩══╬═\n",
       "                                  0  ║ \n",
       "                                     ║ \n",
       "crx: 1/══════════════════════════════╩═\n",
       "                                     0 "
      ]
     },
     "execution_count": 7,
     "metadata": {},
     "output_type": "execute_result"
    }
   ],
   "source": [
    "measure_and_send(teleportation_circuit, 0 ,1)\n",
    "teleportation_circuit.draw()"
   ]
  },
  {
   "cell_type": "markdown",
   "metadata": {},
   "source": [
    "Bob, já possui o qubit q_2, então, dependendo do estado dos bits clássicos, aplica-se as seguintes portas:\n",
    "\n",
    "00 → Não é feito nata\n",
    "\n",
    "01 → Aplica-se a porta X\n",
    "\n",
    "10 → Aplica-se a porta Z\n",
    "\n",
    "11 → Aplica-se a porta ZX\n",
    "\n",
    "Essa decisão é feita na função a seguir."
   ]
  },
  {
   "cell_type": "code",
   "execution_count": 8,
   "metadata": {},
   "outputs": [],
   "source": [
    "def bob_porta(qc, qubit, crz, crx):\n",
    "    qc.x(qubit).c_if(crx, 1)\n",
    "    qc.z(qubit).c_if(crz, 1)"
   ]
  },
  {
   "cell_type": "code",
   "execution_count": 9,
   "metadata": {},
   "outputs": [
    {
     "data": {
      "text/html": [
       "<pre style=\"word-wrap: normal;white-space: pre;background: #fff0;line-height: 1.1;font-family: &quot;Courier New&quot;,Courier,monospace\">                  ░      ┌───┐ ░ ┌─┐    ░               \n",
       "  q_0: ───────────░───■──┤ H ├─░─┤M├────░───────────────\n",
       "       ┌───┐      ░ ┌─┴─┐└───┘ ░ └╥┘┌─┐ ░               \n",
       "  q_1: ┤ H ├──■───░─┤ X ├──────░──╫─┤M├─░───────────────\n",
       "       └───┘┌─┴─┐ ░ └───┘      ░  ║ └╥┘ ░  ┌───┐  ┌───┐ \n",
       "  q_2: ─────┤ X ├─░────────────░──╫──╫──░──┤ X ├──┤ Z ├─\n",
       "            └───┘ ░            ░  ║  ║  ░  └─┬─┘  └─┬─┘ \n",
       "                                  ║  ║       │   ┌──┴──┐\n",
       "crz: 1/═══════════════════════════╩══╬═══════╪═══╡ = 1 ╞\n",
       "                                  0  ║    ┌──┴──┐└─────┘\n",
       "crx: 1/══════════════════════════════╩════╡ = 1 ╞═══════\n",
       "                                     0    └─────┘       </pre>"
      ],
      "text/plain": [
       "                  ░      ┌───┐ ░ ┌─┐    ░               \n",
       "  q_0: ───────────░───■──┤ H ├─░─┤M├────░───────────────\n",
       "       ┌───┐      ░ ┌─┴─┐└───┘ ░ └╥┘┌─┐ ░               \n",
       "  q_1: ┤ H ├──■───░─┤ X ├──────░──╫─┤M├─░───────────────\n",
       "       └───┘┌─┴─┐ ░ └───┘      ░  ║ └╥┘ ░  ┌───┐  ┌───┐ \n",
       "  q_2: ─────┤ X ├─░────────────░──╫──╫──░──┤ X ├──┤ Z ├─\n",
       "            └───┘ ░            ░  ║  ║  ░  └─┬─┘  └─┬─┘ \n",
       "                                  ║  ║       │   ┌──┴──┐\n",
       "crz: 1/═══════════════════════════╩══╬═══════╪═══╡ = 1 ╞\n",
       "                                  0  ║    ┌──┴──┐└─────┘\n",
       "crx: 1/══════════════════════════════╩════╡ = 1 ╞═══════\n",
       "                                     0    └─────┘       "
      ]
     },
     "execution_count": 9,
     "metadata": {},
     "output_type": "execute_result"
    }
   ],
   "source": [
    "teleportation_circuit.barrier() # Usando barrier para separar os passos\n",
    "bob_porta(teleportation_circuit, 2, crz, crx)\n",
    "teleportation_circuit.draw()"
   ]
  },
  {
   "cell_type": "markdown",
   "metadata": {},
   "source": [
    "Para esta execução, o qubit de Alice foi inicializado no estado |ψ⟩ =  |𝑖−⟩."
   ]
  },
  {
   "cell_type": "code",
   "execution_count": 10,
   "metadata": {},
   "outputs": [],
   "source": [
    "psi = [1,0]"
   ]
  },
  {
   "cell_type": "markdown",
   "metadata": {},
   "source": [
    "Criamos a porta de incialização para criar |ψ⟩ a partir do estado |0⟩:"
   ]
  },
  {
   "cell_type": "code",
   "execution_count": 11,
   "metadata": {},
   "outputs": [],
   "source": [
    "init_gate = Initialize(psi)\n",
    "init_gate.label = \"init\"\n",
    "inverse_init_gate = init_gate.gates_to_uncompute()"
   ]
  },
  {
   "cell_type": "markdown",
   "metadata": {},
   "source": [
    "Vamos provar que o qubit |q_0⟩ foi teletransportado para |q_2⟩. Abaixo, revertemos a inicialização de |q_2⟩, esperando medir o estado |0⟩."
   ]
  },
  {
   "cell_type": "code",
   "execution_count": 12,
   "metadata": {},
   "outputs": [
    {
     "data": {
      "text/html": [
       "<pre style=\"word-wrap: normal;white-space: pre;background: #fff0;line-height: 1.1;font-family: &quot;Courier New&quot;,Courier,monospace\">                  ░      ┌───┐ ░ ┌─┐    ░                               \n",
       "  q_0: ───────────░───■──┤ H ├─░─┤M├────░───────────────────────────────\n",
       "       ┌───┐      ░ ┌─┴─┐└───┘ ░ └╥┘┌─┐ ░                               \n",
       "  q_1: ┤ H ├──■───░─┤ X ├──────░──╫─┤M├─░───────────────────────────────\n",
       "       └───┘┌─┴─┐ ░ └───┘      ░  ║ └╥┘ ░  ┌───┐  ┌───┐ ┌──────────────┐\n",
       "  q_2: ─────┤ X ├─░────────────░──╫──╫──░──┤ X ├──┤ Z ├─┤ disentangler ├\n",
       "            └───┘ ░            ░  ║  ║  ░  └─┬─┘  └─┬─┘ └──────────────┘\n",
       "                                  ║  ║       │   ┌──┴──┐                \n",
       "crz: 1/═══════════════════════════╩══╬═══════╪═══╡ = 1 ╞════════════════\n",
       "                                  0  ║    ┌──┴──┐└─────┘                \n",
       "crx: 1/══════════════════════════════╩════╡ = 1 ╞═══════════════════════\n",
       "                                     0    └─────┘                       </pre>"
      ],
      "text/plain": [
       "                  ░      ┌───┐ ░ ┌─┐    ░                               \n",
       "  q_0: ───────────░───■──┤ H ├─░─┤M├────░───────────────────────────────\n",
       "       ┌───┐      ░ ┌─┴─┐└───┘ ░ └╥┘┌─┐ ░                               \n",
       "  q_1: ┤ H ├──■───░─┤ X ├──────░──╫─┤M├─░───────────────────────────────\n",
       "       └───┘┌─┴─┐ ░ └───┘      ░  ║ └╥┘ ░  ┌───┐  ┌───┐ ┌──────────────┐\n",
       "  q_2: ─────┤ X ├─░────────────░──╫──╫──░──┤ X ├──┤ Z ├─┤ disentangler ├\n",
       "            └───┘ ░            ░  ║  ║  ░  └─┬─┘  └─┬─┘ └──────────────┘\n",
       "                                  ║  ║       │   ┌──┴──┐                \n",
       "crz: 1/═══════════════════════════╩══╬═══════╪═══╡ = 1 ╞════════════════\n",
       "                                  0  ║    ┌──┴──┐└─────┘                \n",
       "crx: 1/══════════════════════════════╩════╡ = 1 ╞═══════════════════════\n",
       "                                     0    └─────┘                       "
      ]
     },
     "execution_count": 12,
     "metadata": {},
     "output_type": "execute_result"
    }
   ],
   "source": [
    "teleportation_circuit.append(inverse_init_gate, [2])\n",
    "\n",
    "# Mostrar circuito\n",
    "teleportation_circuit.draw()"
   ]
  },
  {
   "cell_type": "code",
   "execution_count": 13,
   "metadata": {},
   "outputs": [
    {
     "data": {
      "text/html": [
       "<pre style=\"word-wrap: normal;white-space: pre;background: #fff0;line-height: 1.1;font-family: &quot;Courier New&quot;,Courier,monospace\">                  ░      ┌───┐ ░ ┌─┐    ░                                  \n",
       "  q_0: ───────────░───■──┤ H ├─░─┤M├────░──────────────────────────────────\n",
       "       ┌───┐      ░ ┌─┴─┐└───┘ ░ └╥┘┌─┐ ░                                  \n",
       "  q_1: ┤ H ├──■───░─┤ X ├──────░──╫─┤M├─░──────────────────────────────────\n",
       "       └───┘┌─┴─┐ ░ └───┘      ░  ║ └╥┘ ░  ┌───┐  ┌───┐ ┌──────────────┐┌─┐\n",
       "  q_2: ─────┤ X ├─░────────────░──╫──╫──░──┤ X ├──┤ Z ├─┤ disentangler ├┤M├\n",
       "            └───┘ ░            ░  ║  ║  ░  └─┬─┘  └─┬─┘ └──────────────┘└╥┘\n",
       "                                  ║  ║       │   ┌──┴──┐                 ║ \n",
       "crz: 1/═══════════════════════════╩══╬═══════╪═══╡ = 1 ╞═════════════════╬═\n",
       "                                  0  ║    ┌──┴──┐└─────┘                 ║ \n",
       "crx: 1/══════════════════════════════╩════╡ = 1 ╞════════════════════════╬═\n",
       "                                     0    └─────┘                        ║ \n",
       " c0: 1/══════════════════════════════════════════════════════════════════╩═\n",
       "                                                                         0 </pre>"
      ],
      "text/plain": [
       "                  ░      ┌───┐ ░ ┌─┐    ░                                  \n",
       "  q_0: ───────────░───■──┤ H ├─░─┤M├────░──────────────────────────────────\n",
       "       ┌───┐      ░ ┌─┴─┐└───┘ ░ └╥┘┌─┐ ░                                  \n",
       "  q_1: ┤ H ├──■───░─┤ X ├──────░──╫─┤M├─░──────────────────────────────────\n",
       "       └───┘┌─┴─┐ ░ └───┘      ░  ║ └╥┘ ░  ┌───┐  ┌───┐ ┌──────────────┐┌─┐\n",
       "  q_2: ─────┤ X ├─░────────────░──╫──╫──░──┤ X ├──┤ Z ├─┤ disentangler ├┤M├\n",
       "            └───┘ ░            ░  ║  ║  ░  └─┬─┘  └─┬─┘ └──────────────┘└╥┘\n",
       "                                  ║  ║       │   ┌──┴──┐                 ║ \n",
       "crz: 1/═══════════════════════════╩══╬═══════╪═══╡ = 1 ╞═════════════════╬═\n",
       "                                  0  ║    ┌──┴──┐└─────┘                 ║ \n",
       "crx: 1/══════════════════════════════╩════╡ = 1 ╞════════════════════════╬═\n",
       "                                     0    └─────┘                        ║ \n",
       " c0: 1/══════════════════════════════════════════════════════════════════╩═\n",
       "                                                                         0 "
      ]
     },
     "execution_count": 13,
     "metadata": {},
     "output_type": "execute_result"
    }
   ],
   "source": [
    "# Para mostrar o resultado, necessita-se adicionar um novo ClassicalRegister\n",
    "cr_result = ClassicalRegister(1)\n",
    "teleportation_circuit.add_register(cr_result)\n",
    "teleportation_circuit.measure(2,2)\n",
    "teleportation_circuit.draw()"
   ]
  },
  {
   "cell_type": "code",
   "execution_count": 14,
   "metadata": {},
   "outputs": [
    {
     "data": {
      "image/png": "[encoded data removed]",
      "text/plain": [
       "<Figure size 504x360 with 1 Axes>"
      ]
     },
     "execution_count": 14,
     "metadata": {},
     "output_type": "execute_result"
    }
   ],
   "source": [
    "backend = BasicAer.get_backend('qasm_simulator')\n",
    "counts = execute(teleportation_circuit, backend, shots=1024).result().get_counts()\n",
    "plot_histogram(counts)"
   ]
  },
  {
   "cell_type": "markdown",
   "metadata": {},
   "source": [
    "Concluímos que temos 100% chance de medir q_2, no estado |0⟩. Sendo assim, provamos que o protocolo de teletransporte funcionou corretamente."
   ]
  },
  {
   "cell_type": "markdown",
   "metadata": {},
   "source": [
    "Referências:\n",
    "\n",
    "https://qiskit.org/textbook/ch-algorithms/superdense-coding.html\n",
    "\n",
    "https://qiskit.org/textbook/ch-states/single-qubit-gates.html\n",
    "\n",
    "https://qiskit.org/textbook/ch-algorithms/defining-quantum-circuits.html\n",
    "\n",
    "https://qiskit.org/textbook/ch-algorithms/teleportation.html"
   ]
  }
 ],
 "metadata": {
  "kernelspec": {
   "display_name": "Python 3",
   "language": "python",
   "name": "python3"
  },
  "language_info": {
   "codemirror_mode": {
    "name": "ipython",
    "version": 3
   },
   "file_extension": ".py",
   "mimetype": "text/x-python",
   "name": "python",
   "nbconvert_exporter": "python",
   "pygments_lexer": "ipython3",
   "version": "3.8.3"
  }
 },
 "nbformat": 4,
 "nbformat_minor": 4
}
