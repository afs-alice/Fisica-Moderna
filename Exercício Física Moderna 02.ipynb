{
 "cells": [
  {
   "cell_type": "markdown",
   "metadata": {},
   "source": [
    "# Exercício 2 - Física Moderna\n",
    "## Discente: Alice Ferreira Silva"
   ]
  },
  {
   "cell_type": "markdown",
   "metadata": {},
   "source": [
    "Este exercício aplicado em Física Moderna teve como objetivo a utilização do simulador Qiskit para gerar um determinado estado e medi-lo.\n",
    "O estado indicado foi $\\left| + \\right\\rangle$ e deveria ser medido por 20 vezes."
   ]
  },
  {
   "cell_type": "code",
   "execution_count": 148,
   "metadata": {},
   "outputs": [],
   "source": [
    "import numpy as np\n",
    "from qiskit import QuantumCircuit, execute, Aer\n",
    "from qiskit.visualization import plot_histogram"
   ]
  },
  {
   "cell_type": "markdown",
   "metadata": {},
   "source": [
    "Construção do circuito de acordo com as orientações do exercício."
   ]
  },
  {
   "cell_type": "code",
   "execution_count": 149,
   "metadata": {},
   "outputs": [
    {
     "data": {
      "text/html": [
       "<pre style=\"word-wrap: normal;white-space: pre;background: #fff0;line-height: 1.1;font-family: &quot;Courier New&quot;,Courier,monospace\">     ┌───┐┌─┐\n",
       "q_0: ┤ H ├┤M├\n",
       "     └───┘└╥┘\n",
       "c: 1/══════╩═\n",
       "           0 </pre>"
      ],
      "text/plain": [
       "     ┌───┐┌─┐\n",
       "q_0: ┤ H ├┤M├\n",
       "     └───┘└╥┘\n",
       "c: 1/══════╩═\n",
       "           0 "
      ]
     },
     "execution_count": 149,
     "metadata": {},
     "output_type": "execute_result"
    }
   ],
   "source": [
    "qc = QuantumCircuit(1,1)\n",
    "qc.h(0)\n",
    "qc.measure([0], [0])\n",
    "qc.draw()"
   ]
  },
  {
   "cell_type": "markdown",
   "metadata": {},
   "source": [
    "Nesta fase é feita a medição do qubit por 20 vezes. Em seguida, é mostrado um histograma de quantas vezes foi medido o estado $\\left| 0 \\right\\rangle$  e $\\left| 1 \\right\\rangle$ ."
   ]
  },
  {
   "cell_type": "code",
   "execution_count": 207,
   "metadata": {},
   "outputs": [],
   "source": [
    "simulator = Aer.get_backend('qasm_simulator')\n",
    "job = execute(qc, simulator, shots=20)\n",
    "result = job.result()\n",
    "counts = result.get_counts(qc)"
   ]
  },
  {
   "cell_type": "code",
   "execution_count": 163,
   "metadata": {
    "scrolled": false
   },
   "outputs": [
    {
     "data": {
      "image/png": "[encoded data removed]",
      "text/plain": [
       "<Figure size 504x360 with 1 Axes>"
      ]
     },
     "execution_count": 163,
     "metadata": {},
     "output_type": "execute_result"
    }
   ],
   "source": [
    "plot_histogram(counts)"
   ]
  },
  {
   "cell_type": "markdown",
   "metadata": {},
   "source": [
    "# Questão 1"
   ]
  },
  {
   "cell_type": "markdown",
   "metadata": {},
   "source": [
    "Como podemos notar, ao medir um qubit, a probabilidade de resultar $\\left| 1 \\right\\rangle$ é $\\left| \\beta \\right\\rangle$² e $\\left| 0 \\right\\rangle$ é $\\left| \\alpha \\right\\rangle$² porque ele pode existir em um estado contínuo entre $\\left| 1 \\right\\rangle$ e $\\left| 0 \\right\\rangle$, até que seja observado.  \n",
    "Referência: Chuang, Isaac L. Computação quântica e informação quântica."
   ]
  },
  {
   "cell_type": "markdown",
   "metadata": {},
   "source": [
    "# Questão 2  \n",
    "\n",
    "Efetuando a medição com 20 simulações, foi possível perceber que a quantidade de vezes que o estado 0 e 1 foram medidos, não gerou um resultado igualitário, sempre algum se sobressaia como foi mostrado no histograma.  \n",
    "Foi constatado que, efetuando uma modificação na quantidade de simulações, automaticamente aumenta-se o espaço amostral e com isso diminui-se o erro estatístico. Sendo assim, esta foi a forma encontrada para resolver este problema.  \n",
    "Mostrado histograma com 70000 (setenta mil) simulações, gerando assim, o resultado 50% 1 e 50% 0."
   ]
  },
  {
   "cell_type": "code",
   "execution_count": 205,
   "metadata": {},
   "outputs": [
    {
     "data": {
      "image/png": "[encoded data removed]",
      "text/plain": [
       "<Figure size 504x360 with 1 Axes>"
      ]
     },
     "execution_count": 205,
     "metadata": {},
     "output_type": "execute_result"
    }
   ],
   "source": [
    "plot_histogram(counts)"
   ]
  }
 ],
 "metadata": {
  "kernelspec": {
   "display_name": "Python 3",
   "language": "python",
   "name": "python3"
  },
  "language_info": {
   "codemirror_mode": {
    "name": "ipython",
    "version": 3
   },
   "file_extension": ".py",
   "mimetype": "text/x-python",
   "name": "python",
   "nbconvert_exporter": "python",
   "pygments_lexer": "ipython3",
   "version": "3.8.5"
  }
 },
 "nbformat": 4,
 "nbformat_minor": 4
}
